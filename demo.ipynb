{
 "cells": [
  {
   "cell_type": "markdown",
   "id": "e2369290",
   "metadata": {},
   "source": [
    "Loading in main.py"
   ]
  },
  {
   "cell_type": "code",
   "execution_count": 2,
   "id": "20e04b68",
   "metadata": {},
   "outputs": [],
   "source": [
    "# %load main.py\n",
    "#!/usr/bin/env python\n",
    "\n",
    "\n",
    "import math\n",
    "import cmath\n",
    "import numpy as np\n",
    "from PIL import Image as image # to load test image\n",
    "import matplotlib.pyplot as plt # to plot images\n",
    "\n",
    "\n",
    "def lda(k):\n",
    "    if k == 0:\n",
    "        return math.sqrt(1/2)\n",
    "    else:\n",
    "        return 1\n",
    "\n",
    "\n",
    "#DCT\n",
    "\n",
    "def dct1d(im):\n",
    "    # im is a sequence of numbers here; NOT A MATRIX\n",
    "    N = len(im)\n",
    "    C = np.zeros(N) # creating an empty array of numbers to store the dct values of the seq\n",
    "    for n in range(N):\n",
    "        for k in range(N):\n",
    "            C[n] += im[k] * math.cos((k + 1/2) * math.pi * n/N)\n",
    "        C[n] = C[n] * math.sqrt(2/N) * lda(n)\n",
    "    return C\n",
    "\n",
    "def dct2d(im): # im is a matrix here\n",
    "    N = len(im)\n",
    "    A = np.zeros([N,N])\n",
    "    for i in range(N):\n",
    "        A[:,i] = dct1d(im[:,i]) # do 1D DCT on the col of im first & plop into A\n",
    "\n",
    "    B = np.zeros([N,N])\n",
    "    for m in range(N):\n",
    "        B[m,:] = dct1d(A[m,:]) # do 1D DCT on the row of A and plop into B\n",
    "    return B\n",
    "\n",
    "\n",
    "\n",
    "#iDCT\n",
    "\n",
    "def idct1d(coef): # coef is a SEQUENCE, NOT MATRIX\n",
    "    N = len(coef)\n",
    "    f = np.zeros(N) # creating an empty array of numbers to store the idct values of the seq\n",
    "    for k in range(N):\n",
    "        for n in range(N):\n",
    "            f[k] += coef[n] * math.cos((k + 1/2) * math.pi * n/N) * lda(n)\n",
    "    f = f * math.sqrt(2/N)\n",
    "    return f\n",
    "\n",
    "def idct2d(coef): # coef is a matrix here\n",
    "    N = len(coef)\n",
    "    A = np.zeros([N,N])\n",
    "    for i in range(N):\n",
    "        A[:,i] = idct1d(coef[:,i]) # do 1D iDCT on the col of coef first & plop into A\n",
    "\n",
    "    B = np.zeros([N,N])\n",
    "    for m in range(N):\n",
    "        B[m,:] = idct1d(A[m,:]) # do 1D iDCT on the row of A and plop into B\n",
    "    return B\n",
    "\n",
    "\n",
    "\n",
    "#FFT\n",
    "\n",
    "def fft1d(im):\n",
    "    # im is a sequence of numbers here\n",
    "    N = len(im)\n",
    "    if N == 1:\n",
    "        return im\n",
    "    else:\n",
    "        f_even = im[0::2]\n",
    "        f_odd = im[1::2]\n",
    "        F_even = fft1d(f_even) # till left 1 element\n",
    "        F_odd = fft1d(f_odd) # till left 1 element\n",
    "        \n",
    "        ######## end of recursion\n",
    "        \n",
    "        F = np.zeros(N, dtype = np.complex128)\n",
    "        expon = cmath.exp((-1j * 2 * math.pi)/N)\n",
    "        \n",
    "        for k in range(N//2):\n",
    "            F[k] = F_even[k] + F_odd[k] * expon**k\n",
    "            F[k + N//2] = F_even[k] - F_odd[k] * expon**k\n",
    "    return F\n",
    "\n",
    "def fft2d(im):\n",
    "    N = len(im)\n",
    "    A = np.zeros([N,N], dtype = np.complex128)\n",
    "    for i in range(N):\n",
    "        A[i,:] = fft1d(im[i,:]) # do 1D FTT on the row of im first & plop into A\n",
    "\n",
    "    B = np.zeros([N,N], dtype = np.complex128)\n",
    "    for m in range(N):\n",
    "        B[:,m] = fft1d(A[:,m]) # do 1D FFT on the column of A and plop into B\n",
    "    return B\n",
    "\n",
    "\n",
    "\n",
    "#iFFT\n",
    "\n",
    "def ifft1d(coef):\n",
    "    N = len(coef) # coef is a sequence here\n",
    "    conj_F = fft1d(np.conj(coef)) # do 1D FFT on the conj of \\hatf sequence\n",
    "    f = 1/N * conj_F # conj of f\n",
    "    return np.conj(f)\n",
    "\n",
    "def ifft2d(coef):\n",
    "    N = len(coef)\n",
    "    A = np.zeros([N,N], dtype = np.complex128)\n",
    "    for i in range(N):\n",
    "        A[i,:] = ifft1d(coef[i,:]) #do 1D iFFT on the row of coef first & plop into A\n",
    "\n",
    "    B = np.zeros([N,N])\n",
    "    for m in range(N):\n",
    "        B[:,m] = ifft1d(A[:,m]) #do 1D iFFT on the column of A and plop into B\n",
    "    return B"
   ]
  },
  {
   "cell_type": "markdown",
   "id": "f9a356a6",
   "metadata": {},
   "source": [
    "Loading the test grey-scale image"
   ]
  },
  {
   "cell_type": "code",
   "execution_count": 5,
   "id": "638a9229",
   "metadata": {},
   "outputs": [
    {
     "name": "stdout",
     "output_type": "stream",
     "text": [
      "Array shape (256, 256)\n"
     ]
    },
    {
     "data": {
      "text/plain": [
       "array([[156, 159, 158, ..., 151, 152, 152],\n",
       "       [160, 154, 157, ..., 154, 155, 153],\n",
       "       [156, 159, 158, ..., 151, 152, 152],\n",
       "       ...,\n",
       "       [114, 132, 123, ..., 135, 137, 114],\n",
       "       [121, 126, 130, ..., 133, 130, 113],\n",
       "       [121, 126, 130, ..., 133, 130, 113]], dtype=uint8)"
      ]
     },
     "execution_count": 5,
     "metadata": {},
     "output_type": "execute_result"
    }
   ],
   "source": [
    "# from Prof's notes\n",
    "\n",
    "# to load test image\n",
    "\n",
    "# Reading a grayscale image\n",
    "im1 = image.open('sample.png')\n",
    "\n",
    "# Conversion for gray-scale image\n",
    "im1 = im1.convert('L') \n",
    "I = np.array(im1)\n",
    "print(\"Array shape\", I.shape)\n",
    "I"
   ]
  },
  {
   "cell_type": "markdown",
   "id": "e832599f",
   "metadata": {},
   "source": [
    "Testing 2D DCT"
   ]
  },
  {
   "cell_type": "code",
   "execution_count": 6,
   "id": "3b54376b",
   "metadata": {},
   "outputs": [
    {
     "data": {
      "text/plain": [
       "array([[ 3.03934688e+04, -4.22576347e+03,  2.72987394e+03, ...,\n",
       "         2.48199770e+01, -1.06624656e+00, -2.14547687e+01],\n",
       "       [ 5.70948666e+03,  1.64930626e+03,  1.21056951e+03, ...,\n",
       "         2.26787345e+01, -6.09586081e+00, -2.61289889e+01],\n",
       "       [ 3.78057258e+03,  2.57113715e+03, -3.27591530e+03, ...,\n",
       "        -3.71237243e+01,  5.82688918e+00,  3.47495693e+01],\n",
       "       ...,\n",
       "       [-3.57771425e+01,  1.13533226e+01,  1.13403026e+01, ...,\n",
       "         3.22809588e+00,  4.46033351e+00, -9.68872148e+00],\n",
       "       [-8.20949746e+00, -9.06723266e+00,  5.47513636e+01, ...,\n",
       "        -3.34318288e+00, -4.53935165e-01,  1.00763648e+01],\n",
       "       [-3.67884831e+01, -5.72588276e-01,  2.12528265e+01, ...,\n",
       "        -2.59608346e+00,  7.79147765e-01,  5.05597962e+00]])"
      ]
     },
     "execution_count": 6,
     "metadata": {},
     "output_type": "execute_result"
    }
   ],
   "source": [
    "dct_2d = dct2d(I)\n",
    "dct_2d"
   ]
  },
  {
   "cell_type": "code",
   "execution_count": 7,
   "id": "566c24a8",
   "metadata": {},
   "outputs": [
    {
     "data": {
      "text/plain": [
       "<matplotlib.image.AxesImage at 0x10fa99700>"
      ]
     },
     "execution_count": 7,
     "metadata": {},
     "output_type": "execute_result"
    },
    {
     "data": {
      "image/png": "[encoded data removed]",
      "text/plain": [
       "<Figure size 432x288 with 1 Axes>"
      ]
     },
     "metadata": {
      "needs_background": "light"
     },
     "output_type": "display_data"
    }
   ],
   "source": [
    "#Visualize numpy array as images\n",
    "\n",
    "plt.subplot(1,3,1); plt.imshow(dct_2d, cmap = 'gray')"
   ]
  },
  {
   "cell_type": "markdown",
   "id": "fbb381e8",
   "metadata": {},
   "source": [
    "Testing 2D iDCT"
   ]
  },
  {
   "cell_type": "code",
   "execution_count": 8,
   "id": "f1e5125f",
   "metadata": {},
   "outputs": [
    {
     "data": {
      "text/plain": [
       "array([[156., 159., 158., ..., 151., 152., 152.],\n",
       "       [160., 154., 157., ..., 154., 155., 153.],\n",
       "       [156., 159., 158., ..., 151., 152., 152.],\n",
       "       ...,\n",
       "       [114., 132., 123., ..., 135., 137., 114.],\n",
       "       [121., 126., 130., ..., 133., 130., 113.],\n",
       "       [121., 126., 130., ..., 133., 130., 113.]])"
      ]
     },
     "execution_count": 8,
     "metadata": {},
     "output_type": "execute_result"
    }
   ],
   "source": [
    "idct_2d = idct2d(dct_2d)\n",
    "idct_2d"
   ]
  },
  {
   "cell_type": "code",
   "execution_count": 9,
   "id": "d940de6d",
   "metadata": {},
   "outputs": [
    {
     "data": {
      "text/plain": [
       "<matplotlib.image.AxesImage at 0x116f87a90>"
      ]
     },
     "execution_count": 9,
     "metadata": {},
     "output_type": "execute_result"
    },
    {
     "data": {
      "image/png": "[encoded data removed]",
      "text/plain": [
       "<Figure size 432x288 with 1 Axes>"
      ]
     },
     "metadata": {
      "needs_background": "light"
     },
     "output_type": "display_data"
    }
   ],
   "source": [
    "#Visualize numpy array as images\n",
    "\n",
    "plt.subplot(1,3,1); plt.imshow(idct_2d, cmap = 'gray')"
   ]
  },
  {
   "cell_type": "markdown",
   "id": "51659084",
   "metadata": {},
   "source": [
    "Testing 2D FFT"
   ]
  },
  {
   "cell_type": "code",
   "execution_count": 10,
   "id": "f19eb405",
   "metadata": {},
   "outputs": [
    {
     "data": {
      "text/plain": [
       "array([[7780728.              +0.j        ,\n",
       "         479869.37901948+1167475.72134067j,\n",
       "         382091.16744448 -344064.3500564j , ...,\n",
       "          32037.18287967 +279751.14729755j,\n",
       "         382091.16744448 +344064.3500564j ,\n",
       "         479869.37901948-1167475.72134067j],\n",
       "       [ 694675.1054863  -836574.80114987j,\n",
       "        -591204.33605153 -768229.11424111j,\n",
       "        -291668.0430127  +569278.93924113j, ...,\n",
       "         -83875.04131211 -137195.71995934j,\n",
       "         122819.1267773  +232945.05055378j,\n",
       "        -228754.75396057 +214106.94106031j],\n",
       "       [ 190981.79570956 -495893.92934818j,\n",
       "        -222355.01079183 +225322.31088183j,\n",
       "          80847.82930646 +124223.23457101j, ...,\n",
       "        -104458.91757817 +128879.70980572j,\n",
       "         -51622.00056568  +80830.52066902j,\n",
       "         181561.79918424 +101211.91328498j],\n",
       "       ...,\n",
       "       [-167211.67596147  +95181.17949364j,\n",
       "        -104680.94479169  -53130.37855467j,\n",
       "          55467.66444863 +132785.8778589j , ...,\n",
       "        -104641.85817434 +128394.5836996j ,\n",
       "         144227.71434895  -25187.94086001j,\n",
       "         -67538.32285089  -55419.27009777j],\n",
       "       [ 190981.79570956 +495893.92934818j,\n",
       "         181561.79918424 -101211.91328498j,\n",
       "         -51622.00056568  -80830.52066902j, ...,\n",
       "         154153.34913451  +22133.05340021j,\n",
       "          80847.82930646 -124223.23457101j,\n",
       "        -222355.01079183 -225322.31088183j],\n",
       "       [ 694675.1054863  +836574.80114987j,\n",
       "        -228754.75396057 -214106.94106031j,\n",
       "         122819.1267773  -232945.05055378j, ...,\n",
       "         174123.46893065  -80145.60887758j,\n",
       "        -291668.0430127  -569278.93924113j,\n",
       "        -591204.33605153 +768229.11424111j]])"
      ]
     },
     "execution_count": 10,
     "metadata": {},
     "output_type": "execute_result"
    }
   ],
   "source": [
    "fft_2d = fft2d(I)\n",
    "fft_2d"
   ]
  },
  {
   "cell_type": "markdown",
   "id": "14d28a1f",
   "metadata": {},
   "source": [
    "Testing 2D iFFT"
   ]
  },
  {
   "cell_type": "code",
   "execution_count": 11,
   "id": "db4b621b",
   "metadata": {},
   "outputs": [
    {
     "name": "stderr",
     "output_type": "stream",
     "text": [
      "/var/folders/_3/fczvchrn6cd2yn547sk6xs700000gn/T/ipykernel_38635/3326263505.py:120: ComplexWarning: Casting complex values to real discards the imaginary part\n",
      "  B[:,m] = ifft1d(A[:,m]) #do 1D iFFT on the column of A and plop into B\n"
     ]
    },
    {
     "data": {
      "text/plain": [
       "array([[156., 159., 158., ..., 151., 152., 152.],\n",
       "       [160., 154., 157., ..., 154., 155., 153.],\n",
       "       [156., 159., 158., ..., 151., 152., 152.],\n",
       "       ...,\n",
       "       [114., 132., 123., ..., 135., 137., 114.],\n",
       "       [121., 126., 130., ..., 133., 130., 113.],\n",
       "       [121., 126., 130., ..., 133., 130., 113.]])"
      ]
     },
     "execution_count": 11,
     "metadata": {},
     "output_type": "execute_result"
    }
   ],
   "source": [
    "ifft_2d = ifft2d(fft_2d)\n",
    "ifft_2d"
   ]
  },
  {
   "cell_type": "code",
   "execution_count": 12,
   "id": "dee918bf",
   "metadata": {},
   "outputs": [
    {
     "data": {
      "text/plain": [
       "<matplotlib.image.AxesImage at 0x117027eb0>"
      ]
     },
     "execution_count": 12,
     "metadata": {},
     "output_type": "execute_result"
    },
    {
     "data": {
      "image/png": "[encoded data removed]",
      "text/plain": [
       "<Figure size 432x288 with 1 Axes>"
      ]
     },
     "metadata": {
      "needs_background": "light"
     },
     "output_type": "display_data"
    }
   ],
   "source": [
    "#Visualize numpy array as images\n",
    "\n",
    "plt.subplot(1,3,1); plt.imshow(ifft_2d, cmap = 'gray')"
   ]
  },
  {
   "cell_type": "code",
   "execution_count": null,
   "id": "23eb3d20",
   "metadata": {},
   "outputs": [],
   "source": []
  }
 ],
 "metadata": {
  "kernelspec": {
   "display_name": "Python 3 (ipykernel)",
   "language": "python",
   "name": "python3"
  },
  "language_info": {
   "codemirror_mode": {
    "name": "ipython",
    "version": 3
   },
   "file_extension": ".py",
   "mimetype": "text/x-python",
   "name": "python",
   "nbconvert_exporter": "python",
   "pygments_lexer": "ipython3",
   "version": "3.9.7"
  }
 },
 "nbformat": 4,
 "nbformat_minor": 5
}
